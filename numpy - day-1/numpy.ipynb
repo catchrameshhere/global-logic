{
 "cells": [
  {
   "cell_type": "code",
   "execution_count": null,
   "id": "78b5db5a-c176-494f-b638-39bb1203fc4c",
   "metadata": {},
   "outputs": [],
   "source": [
    "# simple array\n",
    "\n",
    "import numpy as np\n",
    "\n",
    "a = np.array([1,2,3])\n",
    "a"
   ]
  },
  {
   "cell_type": "code",
   "execution_count": null,
   "id": "30b411f0-a486-4c1f-97e0-9c2e14eeaff8",
   "metadata": {},
   "outputs": [],
   "source": [
    "#simple array with range\n",
    "import numpy as np\n",
    "\n",
    "a = np.array(range(5))\n",
    "a"
   ]
  },
  {
   "cell_type": "code",
   "execution_count": null,
   "id": "b989d443-b78e-4f39-a5d3-d1297dfca1c1",
   "metadata": {},
   "outputs": [],
   "source": [
    "# more than one dimensional array\n",
    "import numpy as np\n",
    "\n",
    "a = np.array([[1,2],[3,4]])\n",
    "a"
   ]
  },
  {
   "cell_type": "code",
   "execution_count": null,
   "id": "97d1277e-bcc4-4246-b11d-ca0627566354",
   "metadata": {},
   "outputs": [],
   "source": [
    "# more than one dimensional array from range\n",
    "import numpy as np\n",
    "\n",
    "a = np.arange(6).reshape(2,3)\n",
    "a"
   ]
  },
  {
   "cell_type": "code",
   "execution_count": null,
   "id": "6161a26b-c256-4c60-85d3-c976f052fd8a",
   "metadata": {},
   "outputs": [],
   "source": [
    "# more than one dimensional array from range\n",
    "import numpy as np\n",
    "\n",
    "a = np.arange(12).reshape(2,2,3)\n",
    "print(a)\n",
    "a"
   ]
  },
  {
   "cell_type": "code",
   "execution_count": null,
   "id": "a0557be4-4838-49c2-98cf-36c7068eea16",
   "metadata": {},
   "outputs": [],
   "source": [
    "# complex array\n",
    "import numpy as np\n",
    "\n",
    "a = np.array([1,2,3], dtype=complex)\n",
    "a"
   ]
  },
  {
   "cell_type": "code",
   "execution_count": null,
   "id": "b9f1e36f-f7e2-4384-aad7-8030e7567e46",
   "metadata": {},
   "outputs": [],
   "source": [
    "import numpy as np\n",
    "\n",
    "a = np.arange(6).reshape(2, 3)\n",
    "a"
   ]
  },
  {
   "cell_type": "code",
   "execution_count": null,
   "id": "e6962e04-b122-4122-b6a2-33d71c2a8efe",
   "metadata": {},
   "outputs": [],
   "source": [
    "# data type\n",
    "\n",
    "# list of data types\n",
    "# 1. bool\n",
    "# 2. int\n",
    "# 3. intc\n",
    "# 4. intp\n",
    "# 5. int8\n",
    "# 6. int16\n",
    "# 7. int32\n",
    "# 8. int64\n",
    "# 9. uint8\n",
    "# 10. uint16\n",
    "# 11. uint32\n",
    "# 12. uint64\n",
    "\t\t\n",
    "# 13. float\n",
    "# 14. float16\n",
    "# 15. float32\n",
    "# 16. float64\n",
    "\t\t\n",
    "# 17. complex\n",
    "# 18. complex64\n",
    "# 19. complex128\n",
    "\n",
    "import numpy as np\n",
    "# dt = np.dtype(np.int32)\n",
    "# dt = np.dtype('i4')\n",
    "# dt = np.dtype('>i4')\n",
    "dt = np.dtype([('age', np.int8)])\n",
    "dt\n",
    "\n",
    "\n",
    "\n",
    "dt=np.dtype('i4')\n",
    "a = np.array([1,2,3], dtype=dt)\n",
    "a\n",
    "\n",
    "\n",
    "a = np.array([1,2,3], dtype=complex)\n",
    "a"
   ]
  },
  {
   "cell_type": "code",
   "execution_count": null,
   "id": "389c4b16-48ef-451f-afd5-a678efeabf77",
   "metadata": {},
   "outputs": [],
   "source": [
    "# ndarray\n",
    "\n",
    "import numpy as np\n",
    "\n",
    "# a = np.array([1,2,3])\n",
    "a = np.array([[1,2,3], [4,5,6]])\n",
    "\n",
    "# print(a)\n",
    "\n",
    "# ndarry & (ndim ==> reshaping)\n",
    "# a = np.arange(6).reshape(2,3)\n",
    "\n",
    "# a = np.array([[1,2,3], [4,5,6]]).reshape(3,2)\n",
    "\n",
    "# a = np.arange(20).reshape(4,5)\n",
    "# a = np.arange(40).reshape(2,4,5)\n",
    "\n",
    "# a = np.zeros(3, dtype=np.int8)\n",
    "# a = np.zeros((2,2), dtype=np.int8)\n",
    "a = np.ones((2,2,3), dtype=np.int8)\n",
    "\n",
    "print(a)"
   ]
  },
  {
   "cell_type": "code",
   "execution_count": null,
   "id": "ebff8cfa-0985-404c-b190-9acf3c7418d6",
   "metadata": {},
   "outputs": [],
   "source": [
    "# ndarry conversion\n",
    "import numpy as np\n",
    "\n",
    "# a = [1, 2, 3]\n",
    "# b = np.asarray(a, dtype=float)\n",
    "# b\n",
    "\n",
    "li = range(5)\n",
    "itr = iter(list)\n",
    "\n",
    "# a = np.fromiter(itr, dtype=int)\n",
    "a = np.fromiter(itr, dtype=float)\n",
    "a\n"
   ]
  },
  {
   "cell_type": "code",
   "execution_count": null,
   "id": "514cd4fe-faa4-4ed7-b7ad-5477419faf87",
   "metadata": {},
   "outputs": [],
   "source": [
    "import numpy as np\n",
    "\n",
    "# a = np.arange(6)\n",
    "# a = np.arange(10,20)\n",
    "# a = np.arange(10, 20, 1)\n",
    "# a = np.arange(10, 20, 2)\n",
    "# a = np.arange(10, 20, 3)\n",
    "# a = np.arange(10, 20, 4)\n",
    "\n",
    "# a = np.linspace(10,20, 4, endpoint=False)\n",
    "a = np.logspace(1,10,num=10,base=2)\n",
    "\n",
    "a"
   ]
  },
  {
   "cell_type": "code",
   "execution_count": null,
   "id": "6c21c561-7659-490b-aee6-1b780fd6ed23",
   "metadata": {},
   "outputs": [],
   "source": []
  }
 ],
 "metadata": {
  "kernelspec": {
   "display_name": "Python 3 (ipykernel)",
   "language": "python",
   "name": "python3"
  },
  "language_info": {
   "codemirror_mode": {
    "name": "ipython",
    "version": 3
   },
   "file_extension": ".py",
   "mimetype": "text/x-python",
   "name": "python",
   "nbconvert_exporter": "python",
   "pygments_lexer": "ipython3",
   "version": "3.10.0"
  }
 },
 "nbformat": 4,
 "nbformat_minor": 5
}
