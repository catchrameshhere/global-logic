{
 "cells": [
  {
   "cell_type": "markdown",
   "id": "fb5c1d17-5273-43c7-a661-e19437e759a1",
   "metadata": {},
   "source": [
    "# Installation \n",
    "\n",
    "    pip install pandas\n"
   ]
  },
  {
   "cell_type": "markdown",
   "id": "69f51ff6-7c84-4117-a2f4-b950c348e651",
   "metadata": {},
   "source": [
    "# Data Structures supported by pandas are:\n",
    "* Series        ==> 1D\n",
    "* Data Frame    ==> 2D\n",
    "* Panel         ==> 3D"
   ]
  },
  {
   "cell_type": "markdown",
   "id": "a9eaabba-2969-487c-b3ba-661ace8dfef8",
   "metadata": {},
   "source": [
    "# Series"
   ]
  },
  {
   "cell_type": "code",
   "execution_count": null,
   "id": "7e171ab5-054a-4344-86c7-42875026b390",
   "metadata": {},
   "outputs": [],
   "source": [
    "# Can be created using following syntax\n",
    "\n",
    "# pandas.Series( data, index, dtype, copy)\n",
    "\n",
    "# data ==> ndarray, list, contants\n",
    "# index ==> unique value, same length as data. default value np.arange(n)\n",
    "# dtype ==> data type\n",
    "# copy ==> copy data\n",
    "\n",
    "# A series can be created using various inputs like −\n",
    "\n",
    "# Array\n",
    "# Dict\n",
    "# Scalar value or constant"
   ]
  },
  {
   "cell_type": "code",
   "execution_count": null,
   "id": "4816c514-56f8-496d-9664-f98cf645869f",
   "metadata": {},
   "outputs": [],
   "source": [
    "# empty series\n",
    "import pandas as pd\n",
    "a = pd.Series(dtype='float64')\n",
    "print(a)"
   ]
  },
  {
   "cell_type": "code",
   "execution_count": null,
   "id": "3fddfd57-6e8f-4d5e-acea-2513cea387cd",
   "metadata": {},
   "outputs": [],
   "source": [
    "# series from ndarray\n",
    "import pandas as pd\n",
    "import numpy as np\n",
    "\n",
    "data = np.arange(0, 30, 3)\n",
    "\n",
    "# print(data)\n",
    "\n",
    "s = pd.Series(data)\n",
    "print(s)"
   ]
  },
  {
   "cell_type": "code",
   "execution_count": null,
   "id": "0ac76c02-88f0-40ac-8f05-6bc183fd9366",
   "metadata": {},
   "outputs": [],
   "source": [
    "# series from array\n",
    "import pandas as pd\n",
    "import numpy as np\n",
    "\n",
    "data = np.array(['a','b','c','d','e','f'])\n",
    "s = pd.Series(data)\n",
    "print(s)"
   ]
  },
  {
   "cell_type": "code",
   "execution_count": null,
   "id": "8cb24668-0e22-4dac-817b-344e3323a0a2",
   "metadata": {},
   "outputs": [],
   "source": [
    "# series from ndarray\n",
    "import pandas as pd\n",
    "import numpy as np\n",
    "\n",
    "data = np.array(['a','b','c','d','e','f'])\n",
    "s = pd.Series(data)\n",
    "s"
   ]
  },
  {
   "cell_type": "code",
   "execution_count": null,
   "id": "35871688-03a5-41e1-9c35-ebb889fc1501",
   "metadata": {},
   "outputs": [],
   "source": [
    "# series from ndarray and index\n",
    "import pandas as pd\n",
    "import numpy as np\n",
    "data = np.array(['a','b','c','d'])\n",
    "s = pd.Series(data,index=[11,12,13,14])\n",
    "print (s)"
   ]
  },
  {
   "cell_type": "code",
   "execution_count": null,
   "id": "2e2d3d77-41ba-4f09-aaa2-a4f4ff1c9955",
   "metadata": {},
   "outputs": [],
   "source": [
    "# series from dict\n",
    "\n",
    "import pandas as pd\n",
    "import numpy as np\n",
    "data = {'fn':'John', 'ln':'Rambo', 'mn':'9886098860', 'country':\"India\"}\n",
    "s = pd.Series(data)\n",
    "print (s)"
   ]
  },
  {
   "cell_type": "code",
   "execution_count": null,
   "id": "fd4b64b6-9b29-4b66-8346-5b820914ed08",
   "metadata": {},
   "outputs": [],
   "source": [
    "# series from dict and integer values\n",
    "\n",
    "import pandas as pd\n",
    "import numpy as np\n",
    "data = {'a' : 0, 'b' : 1, 'c' : 2}\n",
    "s = pd.Series(data)\n",
    "print (s)"
   ]
  },
  {
   "cell_type": "code",
   "execution_count": null,
   "id": "252b0f43-a910-490c-89cc-9ab07e080bec",
   "metadata": {},
   "outputs": [],
   "source": [
    "# series from dict and integer values with indexing\n",
    "\n",
    "import pandas as pd\n",
    "import numpy as np\n",
    "data = {'a' : 0, 'b' : 1, 'c' : 2}\n",
    "s = pd.Series(data, index=['c', 'a', 'z', 'b'])\n",
    "print (s)"
   ]
  },
  {
   "cell_type": "code",
   "execution_count": null,
   "id": "3c71f186-05ba-4f84-8be1-8d3c88ed7e98",
   "metadata": {},
   "outputs": [],
   "source": [
    "# Series from Scalar\n",
    "\n",
    "import pandas as pd\n",
    "import numpy as np\n",
    "s = pd.Series(5, index=[0, 1, 2, 3])\n",
    "print (s)"
   ]
  },
  {
   "cell_type": "code",
   "execution_count": null,
   "id": "5034d77a-f295-4cea-acf0-c633dc55c840",
   "metadata": {},
   "outputs": [],
   "source": [
    "# Accessing Data from Series with Position\n",
    "\n",
    "import pandas as pd\n",
    "s = pd.Series([1,2,3,4,5])\n",
    "\n",
    "print(s)\n",
    "print(s[3])\n"
   ]
  },
  {
   "cell_type": "code",
   "execution_count": null,
   "id": "42b8d9a7-a871-4d88-9647-34ee75931fff",
   "metadata": {},
   "outputs": [],
   "source": [
    "import pandas as pd\n",
    "s = pd.Series([1,2,3,4,5],index = ['a','b','c','d','e'])\n",
    "\n",
    "print(s)\n",
    "print(s['c'])\n"
   ]
  },
  {
   "cell_type": "code",
   "execution_count": null,
   "id": "e8ef7375-b12d-4aea-a091-fd19dd53c978",
   "metadata": {},
   "outputs": [],
   "source": [
    "import pandas as pd\n",
    "s = pd.Series([1,2,3,4,5],index = ['a','b','c','d','e'])\n",
    "\n",
    "# indexing ==> say get the first 3 elements\n",
    "print (s[:3])\n",
    "\n",
    "# last 3 elements\n",
    "print(s[-3:])"
   ]
  },
  {
   "cell_type": "code",
   "execution_count": null,
   "id": "634b1f12-902b-4fb0-a082-b05df422a736",
   "metadata": {},
   "outputs": [],
   "source": [
    "# Fetching data using label(index)\n",
    "import pandas as pd\n",
    "s = pd.Series([1,2,3,4,5],index = ['a','b','c','d','e'])\n",
    "\n",
    "print(s)\n",
    "print(s['d'])"
   ]
  },
  {
   "cell_type": "markdown",
   "id": "e4a7ca5d-da58-43ba-b072-a30ee8fa1394",
   "metadata": {},
   "source": [
    "# DataFrame"
   ]
  },
  {
   "cell_type": "code",
   "execution_count": null,
   "id": "bf6d7589-3d38-4694-ac53-33a480b1eafc",
   "metadata": {},
   "outputs": [],
   "source": [
    "# DataFrame can be created using following syntax\n",
    "\n",
    "# pandas.DataFrame( data, index, columns, dtype, copy)\n",
    "\n",
    "# data can be,\n",
    "    # Lists\n",
    "    # dict\n",
    "    # Series\n",
    "    # Numpy ndarrays\n",
    "    # Another DataFrame"
   ]
  },
  {
   "cell_type": "code",
   "execution_count": null,
   "id": "021bdc04-6250-4c8b-abf4-b179162c9a42",
   "metadata": {},
   "outputs": [],
   "source": [
    "# Empty DataFrame\n",
    "\n",
    "import pandas as pd\n",
    "df = pd.DataFrame()\n",
    "print(df)"
   ]
  },
  {
   "cell_type": "code",
   "execution_count": null,
   "id": "b1370f59-b5f9-48b3-9b40-2938792f7c74",
   "metadata": {},
   "outputs": [],
   "source": [
    "# list dataframe\n",
    "\n",
    "import pandas as pd\n",
    "data = [1,2,3,4,5]\n",
    "df = pd.DataFrame(data)\n",
    "print(df)"
   ]
  },
  {
   "cell_type": "code",
   "execution_count": null,
   "id": "d4ad6e4d-2898-4a87-b363-d8242424b2c1",
   "metadata": {},
   "outputs": [],
   "source": [
    "import pandas as pd\n",
    "data = [['Alex',10],['Bob',12],['Clarke',13]]\n",
    "df = pd.DataFrame(data,columns=['Name','Age'])\n",
    "print(df)"
   ]
  },
  {
   "cell_type": "code",
   "execution_count": null,
   "id": "a6d4ab44-c4b3-4865-aafe-2ec208c36720",
   "metadata": {},
   "outputs": [],
   "source": [
    "import pandas as pd\n",
    "data = [['u01', 'John', 'Rambo', '9886098860', 'john@gmail.com'],\n",
    "        ['u02', 'Suresh', 'Vemparala', '9845098450', 'suresh@yahoomail.com'],\n",
    "        ['u03', 'Michelle', 'Obama', '11223344', 'michelle@gmail.com'],\n",
    "        ['u04', 'Nithin', 'Gadkari', '8899776655', 'nithin@hotmail.com'],\n",
    "        ['u05', 'Rahul', 'Gandhi', '******', 'rahul@congress.com'],\n",
    "       ['u06', 'Rajani', 'Kanth', '998877', 'gmail@rajani.com']]\n",
    "df = pd.DataFrame(data,columns=['uid','first-name', 'last-name', 'mobile-number', 'email-id'])\n",
    "print(df)\n",
    "\n"
   ]
  },
  {
   "cell_type": "code",
   "execution_count": null,
   "id": "f47057c5-5102-4095-9f57-75f4958eb2aa",
   "metadata": {},
   "outputs": [],
   "source": [
    "import pandas as pd\n",
    "import numpy as np\n",
    "data = [['Alex',10.],['Bob',12],['Clarke',13]]\n",
    "df = pd.DataFrame(data,columns=['Name','Age'])\n",
    "\n",
    "print(df)\n",
    "\n",
    "print(df.dtypes)\n"
   ]
  },
  {
   "cell_type": "code",
   "execution_count": null,
   "id": "3e666f69-9e4d-4d2e-bda3-a9a2752e7be5",
   "metadata": {},
   "outputs": [],
   "source": [
    "# DataFrame from Dict of ndarrays / Lists\n",
    "import pandas as pd\n",
    "data = {'Name':['Tom', 'Jack', 'Steve', 'Ricky'],'Age':[28,34,29,42]}\n",
    "df = pd.DataFrame(data)\n",
    "print(df)"
   ]
  },
  {
   "cell_type": "code",
   "execution_count": null,
   "id": "225b78a9-438f-40f2-b09f-ea0e23400fea",
   "metadata": {},
   "outputs": [],
   "source": [
    "# DataFrame using arrays\n",
    "\n",
    "import pandas as pd\n",
    "data = {'Name':['Tom', 'Jack', 'Steve', 'Ricky'],'Age':[28,34,29,42]}\n",
    "df = pd.DataFrame(data, index=['rank1','rank2','rank3','rank4'])\n",
    "print(df)"
   ]
  },
  {
   "cell_type": "code",
   "execution_count": null,
   "id": "37db77c0-1e09-4c23-a86c-338890832e1a",
   "metadata": {},
   "outputs": [],
   "source": [
    "# create a DataFrame by passing a list of dictionaries.\n",
    "\n",
    "import pandas as pd\n",
    "data = [{'a': 1, 'b': 2},{'a': 5, 'b': 10, 'c': 20}]\n",
    "df = pd.DataFrame(data)\n",
    "print(df"
   ]
  },
  {
   "cell_type": "code",
   "execution_count": null,
   "id": "98b21c07-351f-469a-8481-962f0da0240b",
   "metadata": {},
   "outputs": [],
   "source": [
    "# DataFrame with a list of dictionaries, row indices, and column indices.\n",
    "\n",
    "\n",
    "import pandas as pd\n",
    "data = [{'a': 1, 'b': 2},{'a': 5, 'b': 10, 'c': 20}]\n",
    "\n",
    "#With two column indices, values same as dictionary keys\n",
    "df1 = pd.DataFrame(data, index=['first', 'second'], columns=['a', 'b'])\n",
    "\n",
    "#With two column indices with one index with other name\n",
    "df2 = pd.DataFrame(data, index=['first', 'second'], columns=['a', 'value'])\n",
    "print(df1)\n",
    "print (df2)"
   ]
  },
  {
   "cell_type": "code",
   "execution_count": null,
   "id": "0dd2abef-13b0-432c-aa38-6521a3e314de",
   "metadata": {},
   "outputs": [],
   "source": [
    "# DataFrame from Dict of Series\n",
    "\n",
    "import pandas as pd\n",
    "import numpy as np\n",
    "\n",
    "d = {'one' : pd.Series([1, 2, 3], index=['a', 'b', 'c']),\n",
    "   'two' : pd.Series([1, 2, 3, 4], index=['a', 'b', 'c', 'd'])}\n",
    "\n",
    "df1 = pd.DataFrame(d)\n",
    "df2 = pd.DataFrame(d, dtype=np.float64)\n",
    "print(df1)\n",
    "print(df2)\n"
   ]
  },
  {
   "cell_type": "code",
   "execution_count": 21,
   "id": "2afe2a45-e6a5-46d3-91b7-36091cea4fd7",
   "metadata": {},
   "outputs": [
    {
     "name": "stdout",
     "output_type": "stream",
     "text": [
      "a    1.0\n",
      "b    2.0\n",
      "c    3.0\n",
      "d    NaN\n",
      "Name: one, dtype: float64\n"
     ]
    }
   ],
   "source": [
    "# Selecting columns\n",
    "\n",
    "import pandas as pd\n",
    "\n",
    "d = {'one' : pd.Series([1, 2, 3], index=['a', 'b', 'c']),\n",
    "   'two' : pd.Series([1, 2, 3, 4], index=['a', 'b', 'c', 'd'])}\n",
    "\n",
    "df = pd.DataFrame(d)\n",
    "print(df ['one'])"
   ]
  },
  {
   "cell_type": "code",
   "execution_count": 25,
   "id": "e3d71860-1805-499c-8fa3-1d05d4a0cfb4",
   "metadata": {},
   "outputs": [
    {
     "name": "stdout",
     "output_type": "stream",
     "text": [
      "   one  two\n",
      "a  1.0    1\n",
      "b  2.0    2\n",
      "c  3.0    3\n",
      "d  NaN    4\n",
      "Adding a new column by passing as Series:\n",
      "   one  two  three\n",
      "a  1.0    1   10.0\n",
      "b  2.0    2   20.0\n",
      "c  3.0    3   30.0\n",
      "d  NaN    4    NaN\n",
      "Adding a new column using the existing columns in DataFrame:\n",
      "   one  two  three  four\n",
      "a  1.0    1   10.0  11.0\n",
      "b  2.0    2   20.0  22.0\n",
      "c  3.0    3   30.0  33.0\n",
      "d  NaN    4    NaN   NaN\n"
     ]
    }
   ],
   "source": [
    "# Adding new column to dataframe\n",
    "\n",
    "import pandas as pd\n",
    "\n",
    "d = {'one' : pd.Series([1, 2, 3], index=['a', 'b', 'c']),\n",
    "   'two' : pd.Series([1, 2, 3, 4], index=['a', 'b', 'c', 'd'])}\n",
    "\n",
    "df = pd.DataFrame(d)\n",
    "\n",
    "print(df)\n",
    "\n",
    "\n",
    "print (\"Adding a new column by passing as Series:\")\n",
    "df['three']=pd.Series([10,20,30],index=['a','b','c'])\n",
    "print(df)\n",
    "\n",
    "print (\"Adding a new column using the existing columns in DataFrame:\")\n",
    "df['four']=df['one']+df['three']\n",
    "\n",
    "print(df)"
   ]
  },
  {
   "cell_type": "code",
   "execution_count": 28,
   "id": "8828dbbb-e47b-4aa5-99a3-728c2dd5b91c",
   "metadata": {},
   "outputs": [
    {
     "name": "stdout",
     "output_type": "stream",
     "text": [
      "Our dataframe is:\n",
      "   one  two  three\n",
      "a  1.0    1   10.0\n",
      "b  2.0    2   20.0\n",
      "c  3.0    3   30.0\n",
      "d  NaN    4    NaN\n",
      "Deleting the column using DEL function:\n",
      "   two  three\n",
      "a    1   10.0\n",
      "b    2   20.0\n",
      "c    3   30.0\n",
      "d    4    NaN\n",
      "Deleting column using POP function:\n",
      "   three\n",
      "a   10.0\n",
      "b   20.0\n",
      "c   30.0\n",
      "d    NaN\n"
     ]
    }
   ],
   "source": [
    "# Deleting an column\n",
    "# there are two methods \n",
    "    # del\n",
    "    # pop\n",
    "\n",
    "import pandas as pd\n",
    "\n",
    "d = {'one' : pd.Series([1, 2, 3], index=['a', 'b', 'c']), \n",
    "   'two' : pd.Series([1, 2, 3, 4], index=['a', 'b', 'c', 'd']), \n",
    "   'three' : pd.Series([10,20,30], index=['a','b','c'])}\n",
    "\n",
    "df = pd.DataFrame(d)\n",
    "print (\"Our dataframe is:\")\n",
    "print(df)\n",
    "\n",
    "# # using del function\n",
    "print (\"Deleting the column using DEL function:\")\n",
    "del df['one']\n",
    "print(df)\n",
    "\n",
    "# # using pop function\n",
    "print (\"Deleting column using POP function:\")\n",
    "df.pop('two')\n",
    "print(df)\n"
   ]
  },
  {
   "cell_type": "markdown",
   "id": "bc2fe2b9-00d0-4e1a-87db-86df35f31e38",
   "metadata": {},
   "source": [
    "# Row Operations"
   ]
  },
  {
   "cell_type": "code",
   "execution_count": 31,
   "id": "7acb31b4-0d4a-4cfb-9005-d0ee75dd5a7d",
   "metadata": {},
   "outputs": [
    {
     "name": "stdout",
     "output_type": "stream",
     "text": [
      "   one  two\n",
      "a  1.0    1\n",
      "b  2.0    2\n",
      "c  3.0    3\n",
      "d  NaN    4\n",
      "selecting by loc\n",
      "one    2.0\n",
      "two    2.0\n",
      "Name: b, dtype: float64\n"
     ]
    }
   ],
   "source": [
    "# selection by label\n",
    "\n",
    "import pandas as pd\n",
    "\n",
    "d = {'one' : pd.Series([1, 2, 3], index=['a', 'b', 'c']), \n",
    "   'two' : pd.Series([1, 2, 3, 4], index=['a', 'b', 'c', 'd'])}\n",
    "\n",
    "df = pd.DataFrame(d)\n",
    "print(df)\n",
    "print('selecting by loc')\n",
    "print(df.loc['b'])"
   ]
  },
  {
   "cell_type": "code",
   "execution_count": 33,
   "id": "2ad1f51d-89d9-4cd5-8ad2-54a438b42a25",
   "metadata": {},
   "outputs": [
    {
     "name": "stdout",
     "output_type": "stream",
     "text": [
      "   one  two\n",
      "a  1.0    1\n",
      "b  2.0    2\n",
      "c  3.0    3\n",
      "d  NaN    4\n",
      "selection by iloc\n",
      "one    3.0\n",
      "two    3.0\n",
      "Name: c, dtype: float64\n"
     ]
    }
   ],
   "source": [
    "# selection by integer location\n",
    "import pandas as pd\n",
    "\n",
    "d = {'one' : pd.Series([1, 2, 3], index=['a', 'b', 'c']),\n",
    "   'two' : pd.Series([1, 2, 3, 4], index=['a', 'b', 'c', 'd'])}\n",
    "\n",
    "df = pd.DataFrame(d)\n",
    "print(df)\n",
    "print('selection by iloc')\n",
    "print(df.iloc[2])"
   ]
  },
  {
   "cell_type": "code",
   "execution_count": 37,
   "id": "34eab3bd-734a-4ec8-a4fa-64648454a396",
   "metadata": {},
   "outputs": [
    {
     "name": "stdout",
     "output_type": "stream",
     "text": [
      "   one  two\n",
      "a  1.0    1\n",
      "b  2.0    2\n",
      "c  3.0    3\n",
      "d  NaN    4\n",
      "slicing operation\n",
      "   one  two\n",
      "c  3.0    3\n",
      "d  NaN    4\n"
     ]
    }
   ],
   "source": [
    "# slice operation\n",
    "import pandas as pd\n",
    "\n",
    "d = {'one' : pd.Series([1, 2, 3], index=['a', 'b', 'c']), \n",
    "   'two' : pd.Series([1, 2, 3, 4], index=['a', 'b', 'c', 'd'])}\n",
    "\n",
    "df = pd.DataFrame(d)\n",
    "print(df)\n",
    "\n",
    "print('slicing operation')\n",
    "print(df[2:10])\n"
   ]
  },
  {
   "cell_type": "code",
   "execution_count": 39,
   "id": "574f6bd9-8350-4422-a1c2-b4e4e61ebb36",
   "metadata": {},
   "outputs": [
    {
     "name": "stdout",
     "output_type": "stream",
     "text": [
      "Before adding\n",
      "   a  b\n",
      "0  1  2\n",
      "1  3  4\n",
      "After adding\n",
      "   a  b\n",
      "0  1  2\n",
      "1  3  4\n",
      "0  5  6\n",
      "1  7  8\n"
     ]
    }
   ],
   "source": [
    "# add new row\n",
    "import pandas as pd\n",
    "\n",
    "df = pd.DataFrame([[1, 2], [3, 4]], columns = ['a','b'])\n",
    "df2 = pd.DataFrame([[5, 6], [7, 8]], columns = ['a','b'])\n",
    "\n",
    "print(\"Before adding\")\n",
    "print(df)\n",
    "\n",
    "\n",
    "print(\"After adding\")\n",
    "df = df.append(df2)\n",
    "print(df)"
   ]
  },
  {
   "cell_type": "code",
   "execution_count": 40,
   "id": "4d4c00cc-ccd9-49b7-855c-2000fb267d50",
   "metadata": {},
   "outputs": [
    {
     "name": "stdout",
     "output_type": "stream",
     "text": [
      "   a  b\n",
      "0  1  2\n",
      "1  3  4\n",
      "0  5  6\n",
      "1  7  8\n",
      "after deleting\n",
      "   a  b\n",
      "1  3  4\n",
      "1  7  8\n"
     ]
    }
   ],
   "source": [
    "# deleting the row\n",
    "import pandas as pd\n",
    "\n",
    "df = pd.DataFrame([[1, 2], [3, 4]], columns = ['a','b'])\n",
    "df2 = pd.DataFrame([[5, 6], [7, 8]], columns = ['a','b'])\n",
    "\n",
    "df = df.append(df2)\n",
    "print(df)\n",
    "\n",
    "# Drop rows with label 0\n",
    "df = df.drop(0)\n",
    "\n",
    "print(\"after deleting\")\n",
    "print (df)"
   ]
  },
  {
   "cell_type": "markdown",
   "id": "c96cc587-47f3-482f-9297-d74b8d7b9d92",
   "metadata": {},
   "source": [
    "# Panels"
   ]
  },
  {
   "cell_type": "code",
   "execution_count": null,
   "id": "919228e9-b912-4ca0-ac85-decb3b8b043b",
   "metadata": {},
   "outputs": [],
   "source": [
    "# Panel is a 3D container of data\n",
    "# Panel data is partially responsible for pandas ==> pan(el) - da(ta) - s\n",
    "# Panel axis\n",
    "#     items\n",
    "#     major_axis\n",
    "#     minor_axis\n",
    "\n",
    "# syntax:\n",
    "#     pandas.Panel(data, items, major_axis, minor_axis, dtype, copy)\n",
    "\n",
    "# data\n",
    "    # Data takes various forms like ndarray, series, map, lists, dict, constants and also another DataFrame\n",
    "\n",
    "# items\n",
    "    # axis=0\n",
    "\n",
    "# major_axis\n",
    "    # axis=1\n",
    "\n",
    "# minor_axis\n",
    "    # axis=2\n",
    "    \n",
    "# dtype\t\n",
    "    # Data type of each column\n",
    "    \n",
    "# copy\n",
    "    # Copy data. Default, false\n",
    "    \n",
    "\n",
    "# From pandas 0.20 its been deprecated and 0.25.0 its been removed\n",
    "# if required, please use xarray package - https://xarray.pydata.org/en/stable/\n",
    "    \n",
    "    "
   ]
  },
  {
   "cell_type": "code",
   "execution_count": 46,
   "id": "e7522e6e-6db3-49dd-a38a-3d2f55c2aadd",
   "metadata": {},
   "outputs": [
    {
     "name": "stdout",
     "output_type": "stream",
     "text": [
      "   one  two\n",
      "a  1.0    1\n",
      "b  2.0    2\n",
      "c  3.0    3\n",
      "d  NaN    4\n",
      "after data cleasing\n",
      "     one  two\n",
      "a    1.0    1\n",
      "b    2.0    2\n",
      "c    3.0    3\n",
      "d  555.0    4\n"
     ]
    }
   ],
   "source": [
    "# cleaning\n",
    "\n",
    "import pandas as pd\n",
    "\n",
    "d = {'one' : pd.Series([1, 2, 3], index=['a', 'b', 'c']), \n",
    "   'two' : pd.Series([1, 2, 3, 4], index=['a', 'b', 'c', 'd'])}\n",
    "\n",
    "df = pd.DataFrame(d)\n",
    "print(df)\n",
    "\n",
    "\n",
    "# print('data information')\n",
    "# print(df.info())\n",
    "\n",
    "# print('sum of null values')\n",
    "# print(df.isnull().sum())\n",
    "\n",
    "\n",
    "df.fillna(value={'one':555}, inplace=True)\n",
    "print('after data cleasing')\n",
    "print(df)\n"
   ]
  },
  {
   "cell_type": "code",
   "execution_count": 47,
   "id": "5a4222bf-2cc2-474e-959e-0faa0c25e7bb",
   "metadata": {},
   "outputs": [
    {
     "name": "stdout",
     "output_type": "stream",
     "text": [
      "  first-name last-name\n",
      "0     Daniel      Creg\n",
      "1     Elaine  Fredrick\n",
      "2       John     Rambo\n"
     ]
    }
   ],
   "source": [
    "# Reading csv files\n",
    "import pandas as pd\n",
    "\n",
    "data = pd.read_csv('demo.csv')\n",
    "df = pd.DataFrame(data)\n",
    "print(df)"
   ]
  },
  {
   "cell_type": "code",
   "execution_count": null,
   "id": "5964f54d-8415-4e6a-9f58-70e49f14fd7a",
   "metadata": {},
   "outputs": [],
   "source": [
    "# Categorical Data ==> data type\n",
    "\n",
    "# The categorical data type is useful in the following cases:\n",
    "\n",
    "    # A string variable consisting of only a few different values. \n",
    "    # Converting such a string variable to a categorical variable will save some memory\n",
    "\n",
    "    # The lexical order of a variable is not the same as the logical order (“one”, “two”, “three”). By converting to a categorical and specifying an order on the categories, sorting and min/max will use the logical order instead of the lexical order, see here.\n",
    "\n",
    "    # As a signal to other Python libraries that this column should be treated as a categorical variable (e.g. to use suitable statistical methods or plot types).\n"
   ]
  },
  {
   "cell_type": "code",
   "execution_count": 52,
   "id": "9802bdef-4859-4243-8631-d62853056997",
   "metadata": {},
   "outputs": [
    {
     "name": "stdout",
     "output_type": "stream",
     "text": [
      "0    a\n",
      "1    b\n",
      "2    c\n",
      "3    a\n",
      "dtype: category\n",
      "Categories (3, object): ['a', 'b', 'c']\n",
      "after deleting\n",
      "0    a\n",
      "1    b\n",
      "2    c\n",
      "dtype: category\n",
      "Categories (3, object): ['a', 'b', 'c']\n"
     ]
    }
   ],
   "source": [
    "import pandas as pd\n",
    "\n",
    "s = pd.Series([\"a\", \"b\", \"c\", \"a\"], dtype=\"category\")\n",
    "print(s)\n",
    "\n",
    "\n",
    "# df = pd.DataFrame({\"A\": [\"a\", \"b\", \"c\", \"a\"]})\n",
    "# df[\"B\"] = df[\"A\"].astype(\"category\")\n",
    "# print(df)\n",
    "\n",
    "\n",
    "print('after deleting')\n",
    "print(s.drop_duplicates())"
   ]
  },
  {
   "cell_type": "code",
   "execution_count": null,
   "id": "f5bed9b6-7c94-4000-ae53-dc899cd836bb",
   "metadata": {},
   "outputs": [],
   "source": [
    "# head()\n",
    "#     head function is used to see the first few rows of the dataset.\n",
    "\n",
    "\n",
    "# info() \n",
    "#     The info function highlights the total number of rows in the dataset, names of the columns, their data type, and any missing value.\n",
    "#     It is used to print the summary of a data frame.\n",
    "\n",
    "\n",
    "# describe()\n",
    "#     The describe method computes some summary statistics for numerical columns, like mean and median. \n",
    "#     “count” is the number of non-missing values in each column.\n",
    "#     Describe is good for a quick overview of numeric variables.\n",
    "\n",
    "    \n",
    "# sort_values()\n",
    "#     You can sort rows using the sort_values method, passing in a column name that you want to sort by\n",
    "\n",
    "    \n",
    "# value_counts()\n",
    "#     value_counts() is used when you want to see the count of unique values of various columns.\n",
    "    \n",
    "    \n",
    "# drop_duplicates()\n",
    "#     drop_duplicates() removes duplicate rows from the dataset.\n",
    "\n",
    "\n",
    "# groupBy()\n",
    "#     Pandas groupBy() function is used to split the data into groups using some predefined criteria.\n",
    "\n",
    "\n",
    "# Pivot Table \n",
    "#     The pivot table takes column-wise data as input and groups the entries into a tabular format."
   ]
  },
  {
   "cell_type": "code",
   "execution_count": null,
   "id": "c88c9e2b-97fb-49f9-bf52-37f540d5ca93",
   "metadata": {},
   "outputs": [],
   "source": [
    "# conditonal filtering\n",
    "\n",
    "# stack, unstack, set_index and reset_index are the 4 fundamental DataFrame reshaping operations.\n",
    "\n",
    "# df.stack \n",
    "#     moves a level (or levels) of the column index into the row index.\n",
    "\n",
    "# df.unstack\n",
    "#     moves a level (or levels) of the row index into the column index.\n",
    "\n",
    "# df.set_index \n",
    "#     moves column values into the row index\n",
    "\n",
    "# df.reset_index \n",
    "#     moves a level (or levels) of the row index into a column of values\n",
    "\n",
    "# Together, these 4 methods allow you to move data in your DataFrame anywhere you want -- in the columns, the row index or the column index."
   ]
  },
  {
   "cell_type": "code",
   "execution_count": 59,
   "id": "0fe9efc9-3b9c-4b9c-8d66-7783511235bb",
   "metadata": {},
   "outputs": [
    {
     "name": "stdout",
     "output_type": "stream",
     "text": [
      "    A    B\n",
      "0   4    9\n",
      "1   9   25\n",
      "2  16  100\n",
      "3  25  225\n",
      "apply function output\n",
      "0    [1, 2]\n",
      "1    [1, 2]\n",
      "2    [1, 2]\n",
      "3    [1, 2]\n",
      "dtype: object\n"
     ]
    }
   ],
   "source": [
    "# Apply function\n",
    "# DataFrame.apply(func, axis=0, raw=False, result_type=None, args=(), **kwargs)\n",
    "\n",
    "import pandas as pd\n",
    "import numpy as np\n",
    "df = pd.DataFrame([[4, 9]] * 3, columns=['A', 'B'])\n",
    "\n",
    "\n",
    "df = pd.DataFrame([[4, 9], [9,25], [16, 100], [25, 225]], columns=['A', 'B'])\n",
    "\n",
    "print(df)\n",
    "\n",
    "\n",
    "print('apply function output')\n",
    "# print(df.apply(np.sqrt))\n",
    "\n",
    "# print(df.apply(np.sum, axis=0))\n",
    "\n",
    "print(df.apply(lambda x: [1, 2], axis=1))"
   ]
  },
  {
   "cell_type": "code",
   "execution_count": null,
   "id": "597a5b16-3b68-4f50-813c-3fad5436efad",
   "metadata": {},
   "outputs": [],
   "source": []
  },
  {
   "cell_type": "code",
   "execution_count": null,
   "id": "3cc6a5d9-91b6-4feb-83d7-924ec0d642f9",
   "metadata": {},
   "outputs": [],
   "source": []
  }
 ],
 "metadata": {
  "kernelspec": {
   "display_name": "Python 3 (ipykernel)",
   "language": "python",
   "name": "python3"
  },
  "language_info": {
   "codemirror_mode": {
    "name": "ipython",
    "version": 3
   },
   "file_extension": ".py",
   "mimetype": "text/x-python",
   "name": "python",
   "nbconvert_exporter": "python",
   "pygments_lexer": "ipython3",
   "version": "3.10.0"
  }
 },
 "nbformat": 4,
 "nbformat_minor": 5
}
