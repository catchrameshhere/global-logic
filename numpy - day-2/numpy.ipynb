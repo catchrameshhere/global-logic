{
 "cells": [
  {
   "cell_type": "code",
   "execution_count": null,
   "id": "78b5db5a-c176-494f-b638-39bb1203fc4c",
   "metadata": {},
   "outputs": [],
   "source": [
    "# simple array\n",
    "\n",
    "import numpy as np\n",
    "\n",
    "a = np.array([1,2,3])\n",
    "a"
   ]
  },
  {
   "cell_type": "code",
   "execution_count": null,
   "id": "30b411f0-a486-4c1f-97e0-9c2e14eeaff8",
   "metadata": {},
   "outputs": [],
   "source": [
    "#simple array with range\n",
    "import numpy as np\n",
    "\n",
    "a = np.array(range(5))\n",
    "a"
   ]
  },
  {
   "cell_type": "code",
   "execution_count": null,
   "id": "b989d443-b78e-4f39-a5d3-d1297dfca1c1",
   "metadata": {},
   "outputs": [],
   "source": [
    "# more than one dimensional array\n",
    "import numpy as np\n",
    "\n",
    "a = np.array([[1,2],[3,4]])\n",
    "a"
   ]
  },
  {
   "cell_type": "code",
   "execution_count": null,
   "id": "97d1277e-bcc4-4246-b11d-ca0627566354",
   "metadata": {},
   "outputs": [],
   "source": [
    "# more than one dimensional array from range\n",
    "import numpy as np\n",
    "\n",
    "a = np.arange(6).reshape(2,3)\n",
    "a"
   ]
  },
  {
   "cell_type": "code",
   "execution_count": null,
   "id": "6161a26b-c256-4c60-85d3-c976f052fd8a",
   "metadata": {},
   "outputs": [],
   "source": [
    "# more than one dimensional array from range\n",
    "import numpy as np\n",
    "\n",
    "a = np.arange(12).reshape(2,2,3)\n",
    "print(a)\n",
    "a"
   ]
  },
  {
   "cell_type": "code",
   "execution_count": null,
   "id": "a0557be4-4838-49c2-98cf-36c7068eea16",
   "metadata": {},
   "outputs": [],
   "source": [
    "# complex array\n",
    "import numpy as np\n",
    "\n",
    "a = np.array([1,2,3], dtype=complex)\n",
    "a"
   ]
  },
  {
   "cell_type": "code",
   "execution_count": null,
   "id": "b9f1e36f-f7e2-4384-aad7-8030e7567e46",
   "metadata": {},
   "outputs": [],
   "source": [
    "import numpy as np\n",
    "\n",
    "a = np.arange(6).reshape(2, 3)\n",
    "a"
   ]
  },
  {
   "cell_type": "code",
   "execution_count": null,
   "id": "e6962e04-b122-4122-b6a2-33d71c2a8efe",
   "metadata": {},
   "outputs": [],
   "source": [
    "# data type\n",
    "\n",
    "# list of data types\n",
    "# 1. bool\n",
    "# 2. int\n",
    "# 3. intc\n",
    "# 4. intp\n",
    "# 5. int8\n",
    "# 6. int16\n",
    "# 7. int32\n",
    "# 8. int64\n",
    "# 9. uint8\n",
    "# 10. uint16\n",
    "# 11. uint32\n",
    "# 12. uint64\n",
    "\t\t\n",
    "# 13. float\n",
    "# 14. float16\n",
    "# 15. float32\n",
    "# 16. float64\n",
    "\t\t\n",
    "# 17. complex\n",
    "# 18. complex64\n",
    "# 19. complex128\n",
    "\n",
    "import numpy as np\n",
    "# dt = np.dtype(np.int32)\n",
    "# dt = np.dtype('i4')\n",
    "# dt = np.dtype('>i4')\n",
    "dt = np.dtype([('age', np.int8)])\n",
    "dt\n",
    "\n",
    "\n",
    "\n",
    "dt=np.dtype('i4')\n",
    "a = np.array([1,2,3], dtype=dt)\n",
    "a\n",
    "\n",
    "\n",
    "a = np.array([1,2,3], dtype=complex)\n",
    "a"
   ]
  },
  {
   "cell_type": "code",
   "execution_count": null,
   "id": "389c4b16-48ef-451f-afd5-a678efeabf77",
   "metadata": {},
   "outputs": [],
   "source": [
    "# ndarray\n",
    "\n",
    "import numpy as np\n",
    "\n",
    "# a = np.array([1,2,3])\n",
    "a = np.array([[1,2,3], [4,5,6]])\n",
    "\n",
    "# print(a)\n",
    "\n",
    "# ndarry & (ndim ==> reshaping)\n",
    "# a = np.arange(6).reshape(2,3)\n",
    "\n",
    "# a = np.array([[1,2,3], [4,5,6]]).reshape(3,2)\n",
    "\n",
    "# a = np.arange(20).reshape(4,5)\n",
    "# a = np.arange(40).reshape(2,4,5)\n",
    "\n",
    "# a = np.zeros(3, dtype=np.int8)\n",
    "# a = np.zeros((2,2), dtype=np.int8)\n",
    "a = np.ones((2,2,3), dtype=np.int8)\n",
    "\n",
    "print(a)"
   ]
  },
  {
   "cell_type": "code",
   "execution_count": null,
   "id": "ebff8cfa-0985-404c-b190-9acf3c7418d6",
   "metadata": {},
   "outputs": [],
   "source": [
    "# ndarry conversion\n",
    "import numpy as np\n",
    "\n",
    "# a = [1, 2, 3]\n",
    "# b = np.asarray(a, dtype=float)\n",
    "# b\n",
    "\n",
    "li = range(5)\n",
    "itr = iter(list)\n",
    "\n",
    "# a = np.fromiter(itr, dtype=int)\n",
    "a = np.fromiter(itr, dtype=float)\n",
    "a\n"
   ]
  },
  {
   "cell_type": "code",
   "execution_count": null,
   "id": "514cd4fe-faa4-4ed7-b7ad-5477419faf87",
   "metadata": {},
   "outputs": [],
   "source": [
    "import numpy as np\n",
    "\n",
    "# a = np.arange(6)\n",
    "# a = np.arange(10,20)\n",
    "# a = np.arange(10, 20, 1)\n",
    "# a = np.arange(10, 20, 2)\n",
    "# a = np.arange(10, 20, 3)\n",
    "# a = np.arange(10, 20, 4)\n",
    "\n",
    "# a = np.linspace(10,20, 4, endpoint=False)\n",
    "a = np.logspace(1,10,num=10,base=2)\n",
    "\n",
    "a"
   ]
  },
  {
   "cell_type": "code",
   "execution_count": 56,
   "id": "6c21c561-7659-490b-aee6-1b780fd6ed23",
   "metadata": {},
   "outputs": [
    {
     "name": "stdout",
     "output_type": "stream",
     "text": [
      "[0 1 2 3 4 5 6 7 8 9]\n",
      "[2 4 6]\n"
     ]
    }
   ],
   "source": [
    "# slicing\n",
    "import numpy as np\n",
    "\n",
    "a = np.arange(10)\n",
    "print(a)\n",
    "\n",
    "\n",
    "s = slice(2,7,2)\n",
    "print(a[s])"
   ]
  },
  {
   "cell_type": "code",
   "execution_count": 55,
   "id": "442b8b34-afa8-480a-939f-eac42eff0db8",
   "metadata": {},
   "outputs": [
    {
     "name": "stdout",
     "output_type": "stream",
     "text": [
      "[2 4 6]\n"
     ]
    }
   ],
   "source": [
    "import numpy as np \n",
    "a = np.arange(10) \n",
    "b = a[2:7:2] \n",
    "print (b)"
   ]
  },
  {
   "cell_type": "code",
   "execution_count": 58,
   "id": "b1a743c2-8b0d-4121-9e8f-a8a4149c09d3",
   "metadata": {},
   "outputs": [
    {
     "name": "stdout",
     "output_type": "stream",
     "text": [
      "[0 1 2 3 4 5 6 7 8 9]\n",
      "6\n"
     ]
    }
   ],
   "source": [
    "# slice single item \n",
    "import numpy as np \n",
    "\n",
    "a = np.arange(10)\n",
    "print(a)\n",
    "b = a[6] \n",
    "print (b)"
   ]
  },
  {
   "cell_type": "code",
   "execution_count": 61,
   "id": "2e338f7f-ef42-4174-9700-9da5bd816059",
   "metadata": {},
   "outputs": [
    {
     "name": "stdout",
     "output_type": "stream",
     "text": [
      "[0 1 2 3 4 5 6 7 8 9]\n",
      "[4 5 6 7 8 9]\n",
      "[4 5 6 7 8]\n"
     ]
    }
   ],
   "source": [
    "# slice items starting from index \n",
    "import numpy as np \n",
    "a = np.arange(10)\n",
    "print(a)\n",
    "print (a[4:])\n",
    "print (a[4:9])"
   ]
  },
  {
   "cell_type": "code",
   "execution_count": 76,
   "id": "d99db3ec-962b-4f06-88d4-e91f8e077abd",
   "metadata": {},
   "outputs": [
    {
     "name": "stdout",
     "output_type": "stream",
     "text": [
      "[[1 2 3]\n",
      " [3 4 5]\n",
      " [4 7 6]]\n",
      "**************\n",
      "[[3]\n",
      " [5]\n",
      " [6]]\n"
     ]
    }
   ],
   "source": [
    "import numpy as np \n",
    "a = np.array([[1,2,3],[3,4,5],[4,7,6]]) \n",
    "\n",
    "print (a)\n",
    "print('**************')\n",
    "# print (a[1:])\n",
    "# print(a[...,0])\n",
    "# print(a[...,1])\n",
    "# print(a[...,2])\n",
    "\n",
    "# print(a[0,...])\n",
    "# print(a[1,...])\n",
    "# print(a[2,...])\n",
    "\n",
    "# print(a[...,0:])\n",
    "# print(a[...,1:])\n",
    "print(a[...,2:])"
   ]
  },
  {
   "cell_type": "code",
   "execution_count": 87,
   "id": "87c1c57f-2474-457b-b3a0-0fc3b0ac06f0",
   "metadata": {},
   "outputs": [
    {
     "name": "stdout",
     "output_type": "stream",
     "text": [
      "[[1 2]\n",
      " [3 4]\n",
      " [5 6]]\n",
      "*******************\n",
      "[5 6 5]\n"
     ]
    }
   ],
   "source": [
    "#indexing\n",
    "\n",
    "import numpy as np \n",
    "\n",
    "x = np.array([[1, 2], [3, 4], [5, 6]]) \n",
    "print(x)\n",
    "\n",
    "# y = x[[0,1,2], [0,1,0]] \n",
    "print('*******************')\n",
    "print (y)"
   ]
  },
  {
   "cell_type": "code",
   "execution_count": 97,
   "id": "94aa2c47-65f9-4e6b-b5cc-e93567c218f3",
   "metadata": {},
   "outputs": [
    {
     "name": "stdout",
     "output_type": "stream",
     "text": [
      "[10. 10. 10. 10.]\n"
     ]
    }
   ],
   "source": [
    "# Broadcasting\n",
    "\n",
    "\"\"\"broadcasting refers to the ability of NumPy to treat arrays of different shapes during arithmetic operations\"\"\"\n",
    "\n",
    "import numpy as np \n",
    "\n",
    "a = np.array([1,2,3,4]) \n",
    "b = np.array([10,20,30,40]) \n",
    "\n",
    "# c = a + b\n",
    "# c = a - b\n",
    "# c = b - a \n",
    "# c = a * b\n",
    "c = b / a\n",
    "print (c)\n"
   ]
  },
  {
   "cell_type": "code",
   "execution_count": 104,
   "id": "d331d376-6561-4aa5-9d1e-f9abc41f801d",
   "metadata": {},
   "outputs": [
    {
     "name": "stdout",
     "output_type": "stream",
     "text": [
      "*************\n",
      "[[ 0  0  0]\n",
      " [10 10 10]\n",
      " [20 20 20]\n",
      " [30 30 30]]\n",
      "*************\n",
      "[1 2 3]\n",
      "*************\n",
      "[[ 1  2  3]\n",
      " [11 12 13]\n",
      " [21 22 23]\n",
      " [31 32 33]]\n"
     ]
    }
   ],
   "source": [
    "import numpy as np \n",
    "a = np.array([[0,0,0],[10,10,10],[20,20,20],[30,30,30]]) \n",
    "print(\"*************\")\n",
    "print(a)\n",
    "\n",
    "b = np.array([1,2,3])\n",
    "\n",
    "print(\"*************\")\n",
    "print(b)\n",
    "\n",
    "\n",
    "print(\"*************\")\n",
    "print(a+b)"
   ]
  },
  {
   "cell_type": "code",
   "execution_count": 109,
   "id": "6a032594-c4ca-4521-abc9-22e8a8995ddc",
   "metadata": {},
   "outputs": [
    {
     "name": "stdout",
     "output_type": "stream",
     "text": [
      "*****************\n",
      "[[ 0  2  4  6]\n",
      " [ 8 10 12 14]\n",
      " [16 18 20 22]]\n",
      "*****************\n",
      "0\n",
      "2\n",
      "4\n",
      "6\n",
      "8\n",
      "10\n",
      "12\n",
      "14\n",
      "16\n",
      "18\n",
      "20\n",
      "22\n"
     ]
    }
   ],
   "source": [
    "# Iteration over array\n",
    "import numpy as np\n",
    "a = np.arange(0,24,2)\n",
    "a = a.reshape(3,4)\n",
    "\n",
    "print(\"*****************\")\n",
    "print(a)\n",
    "\n",
    "print(\"*****************\")\n",
    "for i in np.nditer(a):\n",
    "    print(i)"
   ]
  },
  {
   "cell_type": "code",
   "execution_count": 111,
   "id": "eeed6e85-59ff-4836-b3d3-aec05a5fcd31",
   "metadata": {},
   "outputs": [
    {
     "name": "stdout",
     "output_type": "stream",
     "text": [
      "*****************\n",
      "[[ 0  2  4  6]\n",
      " [ 8 10 12 14]\n",
      " [16 18 20 22]]\n",
      "*****************\n",
      "[[ 0  8 16]\n",
      " [ 2 10 18]\n",
      " [ 4 12 20]\n",
      " [ 6 14 22]]\n"
     ]
    }
   ],
   "source": [
    "# Transpose\n",
    "import numpy as np\n",
    "a = np.arange(0,24,2)\n",
    "a = a.reshape(3,4)\n",
    "\n",
    "print(\"*****************\")\n",
    "print(a)\n",
    "\n",
    "print(\"*****************\")\n",
    "print(a.T)"
   ]
  },
  {
   "cell_type": "code",
   "execution_count": 116,
   "id": "16d569ef-084d-4322-9cdf-cd18c2879b63",
   "metadata": {},
   "outputs": [
    {
     "name": "stdout",
     "output_type": "stream",
     "text": [
      "*****************\n",
      "[[ 0  2  4  6]\n",
      " [ 8 10 12 14]\n",
      " [16 18 20 22]]\n",
      "*****************\n",
      "[[ 0.  1.  2.  3.]\n",
      " [ 4.  5.  6.  7.]\n",
      " [ 8.  9. 10. 11.]]\n"
     ]
    }
   ],
   "source": [
    "import numpy as np\n",
    "a = np.arange(0,24,2)\n",
    "a = a.reshape(3,4)\n",
    "\n",
    "print(\"*****************\")\n",
    "print(a)\n",
    "\n",
    "print(\"*****************\")\n",
    "# print(a+2)\n",
    "# print(a-2)\n",
    "# print(a*2)\n",
    "print(a/2)\n"
   ]
  },
  {
   "cell_type": "code",
   "execution_count": null,
   "id": "6456c389-a14a-46a7-9c79-9df17cbf760a",
   "metadata": {},
   "outputs": [],
   "source": [
    "# String Functions"
   ]
  },
  {
   "cell_type": "code",
   "execution_count": 119,
   "id": "df32121a-b39b-4577-a3c1-3f3e5f6dc1f6",
   "metadata": {},
   "outputs": [
    {
     "name": "stdout",
     "output_type": "stream",
     "text": [
      "HELLO\n",
      "HELLO\n",
      "['HELLO' 'WORLD']\n"
     ]
    }
   ],
   "source": [
    "# Capitalize\n",
    "import numpy as np \n",
    "print (np.char.upper('hello')) \n",
    "print (np.char.upper('hElLo')) \n",
    "print (np.char.upper(['hello','world']))"
   ]
  },
  {
   "cell_type": "code",
   "execution_count": 120,
   "id": "2429b5ea-50e6-44dd-b45e-d5d7349ff750",
   "metadata": {},
   "outputs": [
    {
     "name": "stdout",
     "output_type": "stream",
     "text": [
      "Hello There, Welcome To The Training\n"
     ]
    }
   ],
   "source": [
    "# title\n",
    "import numpy as np\n",
    "print(np.char.title('hello there, welcome to the training'))\n"
   ]
  },
  {
   "cell_type": "code",
   "execution_count": 121,
   "id": "1f1c585b-2c7f-4061-87de-b0c9978cda5d",
   "metadata": {},
   "outputs": [
    {
     "name": "stdout",
     "output_type": "stream",
     "text": [
      "hello\n",
      "hello there\n",
      "['hello' 'there']\n"
     ]
    }
   ],
   "source": [
    "# lower\n",
    "import numpy as np\n",
    "print(np.char.lower('HELLO'))\n",
    "print(np.char.lower('HELLO THERE'))\n",
    "print(np.char.lower(['HELLO','THERE']))"
   ]
  },
  {
   "cell_type": "code",
   "execution_count": 122,
   "id": "08317a32-ee86-4d8f-adf3-61ee1cb4b80e",
   "metadata": {},
   "outputs": [
    {
     "name": "stdout",
     "output_type": "stream",
     "text": [
      "['Hello Dan']\n",
      "['Hello Dan' 'welcome to India']\n"
     ]
    }
   ],
   "source": [
    "# add\n",
    "import numpy as np \n",
    "print (np.char.add(['Hello'],[' Dan']))\n",
    "print (np.char.add(['Hello', 'welcome'],[' Dan', ' to India']))"
   ]
  },
  {
   "cell_type": "code",
   "execution_count": 123,
   "id": "38faa674-814e-4b2d-93fe-006cf242b5fe",
   "metadata": {},
   "outputs": [
    {
     "name": "stdout",
     "output_type": "stream",
     "text": [
      "Woah Woah Woah \n"
     ]
    }
   ],
   "source": [
    "# multiply\n",
    "import numpy as np\n",
    "\n",
    "print(np.char.multiply('Woah ', 3))"
   ]
  },
  {
   "cell_type": "code",
   "execution_count": 203,
   "id": "04c766f2-4b9e-4686-b36b-a7517c86738f",
   "metadata": {},
   "outputs": [
    {
     "name": "stdout",
     "output_type": "stream",
     "text": [
      "['can', 'you', 'pass', 'the', 'football', 'please']\n"
     ]
    }
   ],
   "source": [
    "# split\n",
    "import numpy as np\n",
    "\n",
    "print(np.char.split('can you pass the football please'))\n",
    "# print(np.char.split('java,python,ruby,go lang,java script', sep=','))"
   ]
  },
  {
   "cell_type": "code",
   "execution_count": 131,
   "id": "b4643c10-0cf2-4db0-a331-eada4362477d",
   "metadata": {},
   "outputs": [
    {
     "name": "stdout",
     "output_type": "stream",
     "text": [
      "['Hello Dan', 'Welcome to the team!!!']\n"
     ]
    }
   ],
   "source": [
    "# splitlines\n",
    "import numpy as np\n",
    "# print(np.char.splitlines('Hello Dan\\nWelcome to the team!!!'))\n",
    "# print(np.char.splitlines('Hello John\\rWelcome to the team!!!'))\n",
    "print(np.char.splitlines('Hello Dan\\r\\nWelcome to the team!!!'))\n"
   ]
  },
  {
   "cell_type": "code",
   "execution_count": 134,
   "id": "0668f783-7025-4b0a-8a4a-afc4adc9ea79",
   "metadata": {},
   "outputs": [
    {
     "name": "stdout",
     "output_type": "stream",
     "text": [
      "['d-d' 'm:m' 'y/y']\n"
     ]
    }
   ],
   "source": [
    "# join\n",
    "import numpy as np\n",
    "# print(np.char.join('-','dmy'))\n",
    "# print(np.char.join('-',['dd','mm','yy']))\n",
    "print(np.char.join(['-',':','/'],['dd','mm','yy']))"
   ]
  },
  {
   "cell_type": "code",
   "execution_count": 135,
   "id": "a3618d53-bed5-4e2d-a3a0-94aa6d1622f7",
   "metadata": {},
   "outputs": [
    {
     "name": "stdout",
     "output_type": "stream",
     "text": [
      "I was a student\n"
     ]
    }
   ],
   "source": [
    "# replace\n",
    "import numpy as np\n",
    "print(np.char.replace('I am a student', 'am', 'was'))"
   ]
  },
  {
   "cell_type": "code",
   "execution_count": 142,
   "id": "35b46600-7239-434d-863a-d4f696d2b0d6",
   "metadata": {},
   "outputs": [
    {
     "name": "stdout",
     "output_type": "stream",
     "text": [
      "*************\n",
      "[10 20 30]\n",
      "[10 10 10]\n",
      "*************\n",
      "2\n"
     ]
    }
   ],
   "source": [
    "# Mathematical operations\n",
    "a = np.array([10,20,30])\n",
    "b = np.array([10,10,10])\n",
    "\n",
    "print('*************')\n",
    "print(a)\n",
    "print(b)\n",
    "\n",
    "# print('*************')\n",
    "# print(np.add(a,b))\n",
    "\n",
    "# print('*************')\n",
    "# print(np.subtract(a,b))\n",
    "\n",
    "# print('*************')\n",
    "# print(np.multiply(a,b))\n",
    "\n",
    "# print('*************')\n",
    "# print(np.divide(a,b))\n",
    "\n",
    "# print('*************')\n",
    "# print(np.power(a,2))\n",
    "\n",
    "print('*************')\n",
    "print(np.mod(5,3))"
   ]
  },
  {
   "cell_type": "code",
   "execution_count": 151,
   "id": "314dc7e3-d40c-4600-aa4c-8d1a7ade2018",
   "metadata": {},
   "outputs": [
    {
     "name": "stdout",
     "output_type": "stream",
     "text": [
      "[10 20  6]\n",
      "[10  6 20]\n"
     ]
    }
   ],
   "source": [
    "# Statistical Functions\n",
    "# min & max from specified axis\n",
    "\n",
    "import numpy as np\n",
    "a = np.array([[10,35,25], [150,33,6], [100,20,30]])\n",
    "# print(np.amax(a))\n",
    "# print(np.amax(a,0))#0 is axis\n",
    "# print(np.amax(a,1))#1 is axis\n",
    "\n",
    "# print(np.amin(a))\n",
    "# print(np.amin(a,0))\n",
    "# print(np.amin(a,1))"
   ]
  },
  {
   "cell_type": "code",
   "execution_count": 154,
   "id": "5338a5dc-ae1c-4906-a3cf-dab04f9ab8fd",
   "metadata": {},
   "outputs": [
    {
     "name": "stdout",
     "output_type": "stream",
     "text": [
      "[2. 4. 5.]\n"
     ]
    }
   ],
   "source": [
    "# mean\n",
    "import numpy as np \n",
    "a = np.array([[1,2,3],[3,4,5],[4,5,6]]) \n",
    "\n",
    "# print(np.mean(a))\n",
    "# print(np.mean(a, axis=0))\n",
    "print(np.mean(a, axis=1))"
   ]
  },
  {
   "cell_type": "code",
   "execution_count": 155,
   "id": "bedf2c0c-c917-4783-84dc-33ad585ef94a",
   "metadata": {},
   "outputs": [
    {
     "name": "stdout",
     "output_type": "stream",
     "text": [
      "[0 1 2 3 4 5 6 7 8 9]\n",
      "4.5\n"
     ]
    }
   ],
   "source": [
    "# average\n",
    "import numpy as np\n",
    "a = np.arange(10)\n",
    "print(a)\n",
    "print(np.average(a))"
   ]
  },
  {
   "cell_type": "code",
   "execution_count": 156,
   "id": "56ce900c-a002-4fe9-a191-2a3519801b1e",
   "metadata": {},
   "outputs": [
    {
     "name": "stdout",
     "output_type": "stream",
     "text": [
      "1.118033988749895\n"
     ]
    }
   ],
   "source": [
    "# standard deviation\n",
    "# square root of the average of squared deviations from mean\n",
    "# formula ==> sqrt(mean(abs(x - x.mean())**2)) \n",
    "\n",
    "import numpy as np \n",
    "print (np.std([1,2,3,4]))"
   ]
  },
  {
   "cell_type": "code",
   "execution_count": 157,
   "id": "49fb347e-8ab3-4fb1-87fb-7c18460071f3",
   "metadata": {},
   "outputs": [
    {
     "name": "stdout",
     "output_type": "stream",
     "text": [
      "1.25\n"
     ]
    }
   ],
   "source": [
    "# variance\n",
    "# average of squared deviations\n",
    "# formula ==> mean(abs(x - x.mean())**2)\n",
    "\n",
    "import numpy as np \n",
    "print(np.var([1,2,3,4]))\n"
   ]
  },
  {
   "cell_type": "code",
   "execution_count": 159,
   "id": "090f731e-b18d-426f-a256-0196032a0a2c",
   "metadata": {},
   "outputs": [
    {
     "name": "stdout",
     "output_type": "stream",
     "text": [
      "['arun' 'goel' 'ramesh']\n"
     ]
    }
   ],
   "source": [
    "import numpy as np  \n",
    "a = np.array([[3,7],[9,1]])\n",
    "b = np.array(['ramesh', 'goel', 'arun'])\n",
    "\n",
    "# sort\n",
    "# print(np.sort(a))\n",
    "print(np.sort(b))"
   ]
  },
  {
   "cell_type": "code",
   "execution_count": 160,
   "id": "efe30b42-e448-4f2e-a246-f3569c4931e1",
   "metadata": {},
   "outputs": [],
   "source": [
    "# Matplotlib ==> pip install matplotlib\n",
    "from matplotlib import pyplot as plt"
   ]
  },
  {
   "cell_type": "code",
   "execution_count": 161,
   "id": "8a6ab373-5060-46a8-957d-b038923216a4",
   "metadata": {},
   "outputs": [
    {
     "data": {
      "image/png": "[encoded data removed]",
      "text/plain": [
       "<Figure size 432x288 with 1 Axes>"
      ]
     },
     "metadata": {
      "needs_background": "light"
     },
     "output_type": "display_data"
    }
   ],
   "source": [
    "from matplotlib import pyplot as pt\n",
    "import numpy as np\n",
    "\n",
    "x = np.array([10,20,30,40,50,60])\n",
    "\n",
    "pt.title(\"line graph\")\n",
    "pt.xlabel(\"x-axis\")\n",
    "pt.ylabel(\"y-axis\")\n",
    "pt.plot(x)\n",
    "pt.show()\n"
   ]
  },
  {
   "cell_type": "code",
   "execution_count": 162,
   "id": "acdedbc2-c4ed-43a2-8c3c-f1a1058551ec",
   "metadata": {},
   "outputs": [
    {
     "data": {
      "image/png": "[encoded data removed]",
      "text/plain": [
       "<Figure size 432x288 with 1 Axes>"
      ]
     },
     "metadata": {
      "needs_background": "light"
     },
     "output_type": "display_data"
    }
   ],
   "source": [
    "from matplotlib import pyplot as pt\n",
    "import numpy as np\n",
    "\n",
    "x = np.array([10,20,30,40,50,60])\n",
    "y = 2 * x + 2\n",
    "pt.title(\"line graph\")\n",
    "pt.xlabel(\"x-axis\")\n",
    "pt.ylabel(\"y-axis\")\n",
    "pt.plot(x,y)\n",
    "pt.show()"
   ]
  },
  {
   "cell_type": "code",
   "execution_count": 163,
   "id": "b50ccee1-a82c-4b5b-b61f-e23bddbd215f",
   "metadata": {},
   "outputs": [
    {
     "data": {
      "image/png": "[encoded data removed]",
      "text/plain": [
       "<Figure size 432x288 with 1 Axes>"
      ]
     },
     "metadata": {
      "needs_background": "light"
     },
     "output_type": "display_data"
    }
   ],
   "source": [
    "from matplotlib import pyplot as pt\n",
    "import numpy as np\n",
    "\n",
    "x = np.array([10,20,30,40,50,60])\n",
    "y = 2 * x + 2\n",
    "pt.title(\"line graph\")\n",
    "pt.xlabel(\"x-axis\")\n",
    "pt.ylabel(\"y-axis\")\n",
    "pt.plot(x,y, \"*\")\n",
    "pt.show()"
   ]
  },
  {
   "cell_type": "code",
   "execution_count": 166,
   "id": "57b4d4ec-116f-4756-a64e-20322debc465",
   "metadata": {},
   "outputs": [
    {
     "data": {
      "image/png": "[encoded data removed]",
      "text/plain": [
       "<Figure size 432x288 with 1 Axes>"
      ]
     },
     "metadata": {
      "needs_background": "light"
     },
     "output_type": "display_data"
    }
   ],
   "source": [
    "from matplotlib import pyplot as pt\n",
    "import numpy as np\n",
    "\n",
    "x = np.array([10,20,30,40,50,60])\n",
    "y = 2 * x + 2\n",
    "pt.title(\"line graph\")\n",
    "pt.xlabel(\"x-axis\")\n",
    "pt.ylabel(\"y-axis\")\n",
    "pt.plot(x,y, \"o\")\n",
    "pt.show()"
   ]
  },
  {
   "cell_type": "code",
   "execution_count": 167,
   "id": "7f23822a-5f08-4cbc-9441-204aef902739",
   "metadata": {},
   "outputs": [
    {
     "data": {
      "image/png": "[encoded data removed]",
      "text/plain": [
       "<Figure size 432x288 with 1 Axes>"
      ]
     },
     "metadata": {
      "needs_background": "light"
     },
     "output_type": "display_data"
    }
   ],
   "source": [
    "from matplotlib import pyplot as pt\n",
    "import numpy as np\n",
    "\n",
    "x = np.array([10,20,30,40,50,60])\n",
    "y = 2 * x + 2\n",
    "pt.title(\"line graph\")\n",
    "pt.xlabel(\"x-axis\")\n",
    "pt.ylabel(\"y-axis\")\n",
    "pt.plot(x,y, \"v\")\n",
    "pt.show()"
   ]
  },
  {
   "cell_type": "code",
   "execution_count": 168,
   "id": "130d55bf-a662-41c7-b1aa-b4ff73e061c8",
   "metadata": {},
   "outputs": [
    {
     "data": {
      "image/png": "[encoded data removed]",
      "text/plain": [
       "<Figure size 432x288 with 1 Axes>"
      ]
     },
     "metadata": {
      "needs_background": "light"
     },
     "output_type": "display_data"
    }
   ],
   "source": [
    "from matplotlib import pyplot as pt\n",
    "import numpy as np\n",
    "\n",
    "x = np.array([10,20,30,40,50,60])\n",
    "y = 2 * x + 2\n",
    "pt.title(\"line graph\")\n",
    "pt.xlabel(\"x-axis\")\n",
    "pt.ylabel(\"y-axis\")\n",
    "pt.plot(x,y, \"^\")\n",
    "pt.show()"
   ]
  },
  {
   "cell_type": "code",
   "execution_count": 169,
   "id": "e94e1f87-4030-493f-9afa-1f62773a6c0b",
   "metadata": {},
   "outputs": [
    {
     "data": {
      "image/png": "[encoded data removed]",
      "text/plain": [
       "<Figure size 432x288 with 1 Axes>"
      ]
     },
     "metadata": {
      "needs_background": "light"
     },
     "output_type": "display_data"
    }
   ],
   "source": [
    "from matplotlib import pyplot as pt\n",
    "import numpy as np\n",
    "\n",
    "x = np.array([10,20,30,40,50,60])\n",
    "y = 2 * x + 2\n",
    "pt.title(\"line graph\")\n",
    "pt.xlabel(\"x-axis\")\n",
    "pt.ylabel(\"y-axis\")\n",
    "pt.plot(x,y, \"<\")\n",
    "pt.show()"
   ]
  },
  {
   "cell_type": "code",
   "execution_count": 174,
   "id": "1229dc0d-468a-49f5-9c98-4cebf1ed7485",
   "metadata": {},
   "outputs": [
    {
     "data": {
      "image/png": "[encoded data removed]",
      "text/plain": [
       "<Figure size 432x288 with 1 Axes>"
      ]
     },
     "metadata": {
      "needs_background": "light"
     },
     "output_type": "display_data"
    }
   ],
   "source": [
    "from matplotlib import pyplot as pt\n",
    "import numpy as np\n",
    "\n",
    "x = np.array([10,20,30,40,50,60])\n",
    "y = 2 * x + 2\n",
    "pt.title(\"line graph\")\n",
    "pt.xlabel(\"x-axis\")\n",
    "pt.ylabel(\"y-axis\")\n",
    "# pt.plot(x,y, \">\")\n",
    "pt.plot(x,y, \"4\")#1,2,3,4\n",
    "pt.show()"
   ]
  },
  {
   "cell_type": "code",
   "execution_count": 175,
   "id": "8d576d3f-0b4f-4b0a-822f-2e53dff9250f",
   "metadata": {},
   "outputs": [
    {
     "data": {
      "image/png": "[encoded data removed]",
      "text/plain": [
       "<Figure size 432x288 with 1 Axes>"
      ]
     },
     "metadata": {
      "needs_background": "light"
     },
     "output_type": "display_data"
    }
   ],
   "source": [
    "from matplotlib import pyplot as pt\n",
    "import numpy as np\n",
    "\n",
    "x = np.array([10,20,30,40,50,60])\n",
    "y = 2 * x + 2\n",
    "pt.title(\"line graph\")\n",
    "pt.xlabel(\"x-axis\")\n",
    "pt.ylabel(\"y-axis\")\n",
    "pt.plot(x,y, \"s\")\n",
    "pt.show()"
   ]
  },
  {
   "cell_type": "code",
   "execution_count": 176,
   "id": "b2b9638c-46cf-4f9b-9ee8-d5b099dce6ce",
   "metadata": {},
   "outputs": [
    {
     "data": {
      "image/png": "[encoded data removed]",
      "text/plain": [
       "<Figure size 432x288 with 1 Axes>"
      ]
     },
     "metadata": {
      "needs_background": "light"
     },
     "output_type": "display_data"
    }
   ],
   "source": [
    "from matplotlib import pyplot as pt\n",
    "import numpy as np\n",
    "\n",
    "x = np.array([10,20,30,40,50,60])\n",
    "y = 2 * x + 2\n",
    "pt.title(\"line graph\")\n",
    "pt.xlabel(\"x-axis\")\n",
    "pt.ylabel(\"y-axis\")\n",
    "pt.plot(x,y, \"+\")#+, -, --\n",
    "pt.show()"
   ]
  },
  {
   "cell_type": "code",
   "execution_count": 180,
   "id": "fc43ca1b-d738-4c3d-9d9a-b96b394c8116",
   "metadata": {},
   "outputs": [
    {
     "data": {
      "image/png": "[encoded data removed]",
      "text/plain": [
       "<Figure size 432x288 with 1 Axes>"
      ]
     },
     "metadata": {
      "needs_background": "light"
     },
     "output_type": "display_data"
    }
   ],
   "source": [
    "from matplotlib import pyplot as pt\n",
    "import numpy as np\n",
    "\n",
    "x = np.array([10,20,30,40,50,60])\n",
    "y = 2 * x + 2\n",
    "pt.title(\"line graph\")\n",
    "pt.xlabel(\"x-axis\")\n",
    "pt.ylabel(\"y-axis\")\n",
    "pt.plot(x,y, \"D\")\n",
    "pt.show()"
   ]
  },
  {
   "cell_type": "code",
   "execution_count": 181,
   "id": "7408b482-4d6a-4144-8c94-2ac7b3567769",
   "metadata": {},
   "outputs": [
    {
     "data": {
      "image/png": "[encoded data removed]",
      "text/plain": [
       "<Figure size 432x288 with 1 Axes>"
      ]
     },
     "metadata": {
      "needs_background": "light"
     },
     "output_type": "display_data"
    }
   ],
   "source": [
    "from matplotlib import pyplot as pt\n",
    "import numpy as np\n",
    "\n",
    "x = np.array([10,20,30,40,50,60])\n",
    "y = 2 * x + 2\n",
    "pt.title(\"line graph\")\n",
    "pt.xlabel(\"x-axis\")\n",
    "pt.ylabel(\"y-axis\")\n",
    "pt.plot(x,y, \"ob\")\n",
    "pt.show()"
   ]
  },
  {
   "cell_type": "code",
   "execution_count": 186,
   "id": "ec91d44d-acde-477c-ae87-efa66844f61f",
   "metadata": {},
   "outputs": [
    {
     "data": {
      "image/png": "[encoded data removed]",
      "text/plain": [
       "<Figure size 432x288 with 1 Axes>"
      ]
     },
     "metadata": {
      "needs_background": "light"
     },
     "output_type": "display_data"
    }
   ],
   "source": [
    "# Sine Wave \n",
    "import numpy as np \n",
    "import matplotlib.pyplot as plt  \n",
    "\n",
    "x = np.arange(0, 10, 0.1) \n",
    "y = np.sin(x) \n",
    "plt.title(\"sine wave form\") \n",
    "\n",
    "plt.plot(x, y) \n",
    "plt.show()"
   ]
  },
  {
   "cell_type": "code",
   "execution_count": 192,
   "id": "9f6914c5-c476-4b22-b408-f5feccebd73c",
   "metadata": {},
   "outputs": [
    {
     "data": {
      "image/png": "[encoded data removed]",
      "text/plain": [
       "<Figure size 432x288 with 2 Axes>"
      ]
     },
     "metadata": {
      "needs_background": "light"
     },
     "output_type": "display_data"
    }
   ],
   "source": [
    "# subplot\n",
    "\n",
    "import numpy as np \n",
    "import matplotlib.pyplot as pt  \n",
    "   \n",
    "\n",
    "x = np.arange(0, 10, 0.1) \n",
    "y_sin = np.sin(x) \n",
    "y_cos = np.cos(x)  \n",
    "   \n",
    "# Set up a subplot grid that has height 2 and width 1, \n",
    "# and set the first such subplot as active. \n",
    "pt.subplot(2, 1, 1)\n",
    "# pt.subplot(2, 1, 2)\n",
    "   \n",
    "# Make the first plot \n",
    "pt.plot(x, y_sin) \n",
    "pt.title('Sine')  \n",
    "   \n",
    "# Set the second subplot as active, and make the second plot. \n",
    "pt.subplot(2, 1, 2) \n",
    "pt.plot(x, y_cos) \n",
    "pt.title('Cosine')  \n",
    "   \n",
    "# Show the figure. \n",
    "pt.show()"
   ]
  },
  {
   "cell_type": "code",
   "execution_count": 194,
   "id": "d466b12c-0f5d-4153-b5b6-e946afb13923",
   "metadata": {},
   "outputs": [
    {
     "data": {
      "image/png": "[encoded data removed]",
      "text/plain": [
       "<Figure size 432x288 with 1 Axes>"
      ]
     },
     "metadata": {
      "needs_background": "light"
     },
     "output_type": "display_data"
    }
   ],
   "source": [
    "# bar char\n",
    "from matplotlib import pyplot as pt \n",
    "x = [5,8,10] \n",
    "y = [12,16,6]  \n",
    "\n",
    "x2 = [6,9,11] \n",
    "y2 = [6,15,7] \n",
    "pt.bar(x, y, align = 'center') \n",
    "pt.bar(x2, y2, color = 'r', align = 'center') \n",
    "pt.title('Bar graph') \n",
    "pt.ylabel('Y axis') \n",
    "pt.xlabel('X axis')  \n",
    "\n",
    "pt.show()"
   ]
  },
  {
   "cell_type": "code",
   "execution_count": 201,
   "id": "9f426daf-2e2e-4bf9-8c81-87483069e115",
   "metadata": {},
   "outputs": [
    {
     "name": "stdout",
     "output_type": "stream",
     "text": [
      "[1 2 3 4 5]\n"
     ]
    }
   ],
   "source": [
    "# I/O operation\n",
    "# load\n",
    "# save\n",
    "# loadtxt\n",
    "# savetxt\n",
    "\n",
    "import numpy as np \n",
    "a = np.array([1,2,3,4,5]) \n",
    "\n",
    "# save\n",
    "np.save('out-file',a)\n",
    "\n",
    "# # load\n",
    "# b = np.load('out-file.npy') \n",
    "# print(b)\n",
    "\n",
    "# # savetxt\n",
    "np.savetxt('out.txt',a) \n",
    "\n",
    "# # loadtxt\n",
    "b = np.loadtxt('out.txt', dtype=np.int8) \n",
    "print (b)\n"
   ]
  },
  {
   "cell_type": "code",
   "execution_count": 202,
   "id": "6e9ef20b-5621-407f-9362-d42523012979",
   "metadata": {},
   "outputs": [
    {
     "name": "stdout",
     "output_type": "stream",
     "text": [
      "[3 4 1 2]\n"
     ]
    }
   ],
   "source": [
    "# Vectorize\n",
    "# Define a vectorized function which takes a nested sequence of objects or numpy arrays as inputs\n",
    "# returns a single numpy array or a tuple of numpy arrays. \n",
    "# The vectorized function evaluates pyfunc over successive tuples of the input arrays like the python map function, except it uses the broadcasting rules of numpy.\n",
    "\n",
    "def test_func(a,b):\n",
    "    if a > b:\n",
    "        return a - b\n",
    "    else:\n",
    "        return a + b\n",
    "\n",
    "vfunc = np.vectorize(test_func)\n",
    "print(vfunc([1,2,3,4],2))"
   ]
  },
  {
   "cell_type": "code",
   "execution_count": null,
   "id": "ee700fca-32fc-43a9-abda-508b028de389",
   "metadata": {},
   "outputs": [],
   "source": []
  }
 ],
 "metadata": {
  "kernelspec": {
   "display_name": "Python 3 (ipykernel)",
   "language": "python",
   "name": "python3"
  },
  "language_info": {
   "codemirror_mode": {
    "name": "ipython",
    "version": 3
   },
   "file_extension": ".py",
   "mimetype": "text/x-python",
   "name": "python",
   "nbconvert_exporter": "python",
   "pygments_lexer": "ipython3",
   "version": "3.10.0"
  }
 },
 "nbformat": 4,
 "nbformat_minor": 5
}
